{
 "cells": [
  {
   "cell_type": "code",
   "execution_count": 57,
   "id": "0cf8d2ff",
   "metadata": {},
   "outputs": [],
   "source": [
    "import numpy as np\n",
    "import random\n",
    "def Randno_From_0to1():\n",
    "    return random.uniform(0, 1)"
   ]
  },
  {
   "cell_type": "code",
   "execution_count": 58,
   "id": "037bc158",
   "metadata": {},
   "outputs": [],
   "source": [
    "def get_distinguish():   #time between arrivals\n",
    "    RandomProb = Randno_From_0to1()\n",
    "    if 0<= RandomProb <0.1:\n",
    "         tba_dist = 1\n",
    "    elif 0.1<= RandomProb < 0.3:\n",
    "         tba_dist= 2\n",
    "    elif 0.3<= RandomProb < 0.6:\n",
    "         tba_dist = 3\n",
    "    else: \n",
    "         tba_dist = 4\n",
    "    return tba_dist"
   ]
  },
  {
   "cell_type": "code",
   "execution_count": 59,
   "id": "8c8fa413",
   "metadata": {},
   "outputs": [],
   "source": [
    "def get_dist():   #service time\n",
    "    RandomProb = Randno_From_0to1()\n",
    "    if 0<= RandomProb < 0.10:\n",
    "         svtd = 1\n",
    "    elif 0.10<=RandomProb< 0.4:\n",
    "         svtd = 2\n",
    "    elif 0.4<= RandomProb  < 0.78:\n",
    "         svtd = 3\n",
    "    else:\n",
    "        svtd = 4\n",
    "    return svtd"
   ]
  },
  {
   "cell_type": "code",
   "execution_count": 60,
   "id": "9a2fbe20",
   "metadata": {},
   "outputs": [],
   "source": [
    "def get_ordinary():     #time bet arrivals\n",
    "    RandomProb = Randno_From_0to1()\n",
    "    if 0<= RandomProb < 0.09:\n",
    "        tbao = 0\n",
    "    elif 0.09<= RandomProb < 0.26:\n",
    "        tbao = 1\n",
    "    elif 0.26<= RandomProb < 0.53:\n",
    "        tbao = 2\n",
    "    elif 0.53<= RandomProb < 0.73:\n",
    "        tbao = 3\n",
    "    elif 0.73<= RandomProb < 0.88:\n",
    "        tbao =4\n",
    "    else:\n",
    "        tbao =5\n",
    "    return tbao"
   ]
  },
  {
   "cell_type": "code",
   "execution_count": 61,
   "id": "697804b0",
   "metadata": {},
   "outputs": [],
   "source": [
    "def get_ord():     #service time\n",
    "    RandomProb = Randno_From_0to1()\n",
    "    if 0<= RandomProb < 0.20:\n",
    "        svto= 1\n",
    "    elif 0.20<= RandomProb< 0.6:\n",
    "        svto= 2\n",
    "    elif 0.6<= RandomProb < 0.88:\n",
    "        svto= 3\n",
    "    else:\n",
    "        svto = 4\n",
    "    return svto"
   ]
  },
  {
   "cell_type": "code",
   "execution_count": 73,
   "id": "8e3efd97",
   "metadata": {},
   "outputs": [],
   "source": [
    "svt=[] #service time of teller\n",
    "CT=[]  #completion time\n",
    "tba_o=[]  #time between arrivals\n",
    "svt_o=[] #service t\n",
    "AT_o=[]   #arrival t\n",
    "sst_o=[]  #start service t\n",
    "wt_o=[]   #waiting t\n",
    "tis_o=[]  #time in system\n",
    "tba_d=[]\n",
    "svt_d=[]\n",
    "AT_d=[]\n",
    "sst_d=[]\n",
    "wt_d=[]\n",
    "tis_d=[]\n",
    "tis=[]\n",
    "idletime=0\n",
    "avg_svt=0\n",
    "avg_wt_o=0\n",
    "avg_wt_d=0\n",
    "prob_wt_o=0\n",
    "prob_wt_d=0\n",
    "O=0  #counter for ordinary customers\n",
    "D=0 #counter for distinguish customers\n",
    "cust_num = 1000  #no. of all customers"
   ]
  },
  {
   "cell_type": "code",
   "execution_count": 74,
   "id": "4604e138",
   "metadata": {},
   "outputs": [],
   "source": [
    "for i in range (cust_num):  #arrival time for distinguish\n",
    "   \n",
    "    x= get_distinguish()\n",
    "    if i == 0:\n",
    "        AT_d.append(0)\n",
    "    else:\n",
    "       \n",
    "       AT_d.append(x+AT_d[i-1])\n",
    "    "
   ]
  },
  {
   "cell_type": "code",
   "execution_count": 75,
   "id": "085ffebc",
   "metadata": {},
   "outputs": [],
   "source": [
    "for i in range(cust_num):   \n",
    "    x = get_dist()\n",
    "    svt_d.append(x) "
   ]
  },
  {
   "cell_type": "code",
   "execution_count": 76,
   "id": "ea45e392",
   "metadata": {},
   "outputs": [],
   "source": [
    "for i in range (cust_num):  #arrival time for ordinary\n",
    "    \n",
    "    x1= get_ordinary()\n",
    "    if i == 0:\n",
    "        AT_o.append(0)\n",
    "    else:\n",
    "        \n",
    "        AT_o.append(x1+AT_o[i-1]) "
   ]
  },
  {
   "cell_type": "code",
   "execution_count": 77,
   "id": "52481099",
   "metadata": {},
   "outputs": [],
   "source": [
    "for i in range(cust_num):\n",
    "    x1 = get_ord()\n",
    "    svt_o.append(x1) "
   ]
  },
  {
   "cell_type": "code",
   "execution_count": 132,
   "id": "d10116d7",
   "metadata": {},
   "outputs": [],
   "source": [
    "i=0\n",
    "for i in range(cust_num):\n",
    "    if (i == 0 ): #ord arrived before dist and teller is empty\n",
    "        if (AT_o[i] < AT_d[i]):      #ordinary arrive first\n",
    "            #O+=1\n",
    "            sst_o.append(AT_o[0])\n",
    "            CT.append(sst_o[i] + svt_o[i])\n",
    "            wt_o.append(0)    \n",
    "            svt.append(svt_o[i]) \n",
    "            tis_o.append(CT_o[i]-AT_o[0])\n",
    "            tis.append(tis_o[i])\n",
    "        else:                        #dist arrive first\n",
    "            #D+=1\n",
    "            sst_d.append(AT_d[0])\n",
    "            wt_d.append(0)\n",
    "            CT.append(sst_d[i] + svt_d[i])\n",
    "            svt.append(svt_d[i])\n",
    "            tis_d.append(CT[i]-AT_d[i])\n",
    "            tis.append(tis_d[i])\n",
    "    else:\n",
    "        if(AT_o < AT_d  and  AT_o[i] == CT[i-1]):   #this only case to serve ordinary customer\n",
    "                                                   #ordinary arrived before dist and found the teller empty\n",
    "            sst_o.append(AT_o[i])\n",
    "            wt_o.append(AT_o[i] - CT[i-1])\n",
    "            CT.append(sst_o[i] + svt_o[i])\n",
    "            svt.append(svt_o[i])\n",
    "            tis_o.append(CT[i]-AT_o[i])\n",
    "            tis.append(tis_o[i])\n",
    "        else:                                  #else serve the distinguish\n",
    "            sst_d.append(CT[i-1])\n",
    "            CT.append(sst_d[i] + svt_d[i])\n",
    "            wt_d.append(AT_d[i]-CT[i-1])    \n",
    "            svt.append(svt_d[i]) \n",
    "            tis_d.append(CT[i]-AT_d[i])\n",
    "            tis.append(tis_d[i])\n",
    "avg_svt = sum(svt) / len(svt)        \n",
    "avg_wt_d = sum(wt_d) / len(wt_d)\n",
    "avg_wt_o = sum(wt_o) / len(wt_o)"
   ]
  },
  {
   "cell_type": "code",
   "execution_count": 136,
   "id": "60b58422",
   "metadata": {},
   "outputs": [
    {
     "name": "stdout",
     "output_type": "stream",
     "text": [
      "1-AVG Service Time of teller :  2.664618118544297\n",
      "2-AVG waiting Time of distinguish :  0.04735376044568245\n",
      "2-AVG waiting Time of ordinary :  275.0118721461187\n",
      "4-probability of ordinary waiting:  398.63013698630135\n",
      "4-probability of distinguish waiting:  150.80691515231905\n",
      "5-idle time of teller 1.1649105770008903\n"
     ]
    }
   ],
   "source": [
    "print(\"1-AVG Service Time of teller : \", avg_svt )\n",
    "print(\"2-AVG waiting Time of distinguish : \", avg_wt_d )\n",
    "print(\"2-AVG waiting Time of ordinary : \", avg_wt_o )\n",
    "for i in range (0,len(wt_o)):\n",
    "    if wt_o[i] >= 0:\n",
    "        prob_wt_o += 1\n",
    "print (\"4-probability of ordinary waiting: \", (prob_wt_o / len(wt_o))*100 )\n",
    "\n",
    "for i in range (0,len(wt_d)):\n",
    "    if wt_d[i] >= 0:\n",
    "        prob_wt_d += 1\n",
    "print (\"4-probability of distinguish waiting: \", (prob_wt_d / len(wt_d))*100 )\n",
    "idletime= sum (svt) / sum (tis)\n",
    "print (\"5-idle time of teller\" , idletime )"
   ]
  },
  {
   "cell_type": "code",
   "execution_count": null,
   "id": "0e023b90",
   "metadata": {},
   "outputs": [],
   "source": []
  }
 ],
 "metadata": {
  "kernelspec": {
   "display_name": "Python 3 (ipykernel)",
   "language": "python",
   "name": "python3"
  },
  "language_info": {
   "codemirror_mode": {
    "name": "ipython",
    "version": 3
   },
   "file_extension": ".py",
   "mimetype": "text/x-python",
   "name": "python",
   "nbconvert_exporter": "python",
   "pygments_lexer": "ipython3",
   "version": "3.9.13"
  }
 },
 "nbformat": 4,
 "nbformat_minor": 5
}
